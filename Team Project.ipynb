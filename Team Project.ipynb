{
 "cells": [
  {
   "cell_type": "code",
   "execution_count": 1,
   "id": "fa49f673-8d2a-4b77-9a23-311c011028d1",
   "metadata": {},
   "outputs": [
    {
     "name": "stderr",
     "output_type": "stream",
     "text": [
      "C:\\Users\\emir.e\\Anaconda3\\lib\\site-packages\\scipy\\__init__.py:177: UserWarning: A NumPy version >=1.18.5 and <1.26.0 is required for this version of SciPy (detected version 1.26.3\n",
      "  warnings.warn(f\"A NumPy version >={np_minversion} and <{np_maxversion}\"\n"
     ]
    }
   ],
   "source": [
    "import yfinance as yf\n",
    "import pandas as pd\n",
    "import numpy as np\n",
    "import matplotlib.pyplot as plt\n",
    "import scipy.stats as stats\n",
    "from statsmodels.tsa.stattools import adfuller\n",
    "from statsmodels.stats.diagnostic import acorr_ljungbox\n",
    "from statsmodels.graphics.tsaplots import plot_acf, plot_pacf\n",
    "from arch import *\n",
    "\n",
    "import warnings\n",
    "warnings.filterwarnings(\"ignore\")"
   ]
  },
  {
   "cell_type": "markdown",
   "id": "2c2b6f91-7e96-4886-833f-6e5a15ed9212",
   "metadata": {},
   "source": [
    "#### First we obtain the top-3 largest volume cryptocurrencies from https://finance.yahoo.com/u/yahoo-finance/watchlists/crypto-top-volume-24hr/"
   ]
  },
  {
   "cell_type": "code",
   "execution_count": 2,
   "id": "ddccf494-1a51-4ae7-8bef-c536ca9d217a",
   "metadata": {},
   "outputs": [
    {
     "name": "stdout",
     "output_type": "stream",
     "text": [
      "[*********************100%***********************]  1 of 1 completed\n",
      "[*********************100%***********************]  1 of 1 completed\n",
      "[*********************100%***********************]  1 of 1 completed\n"
     ]
    }
   ],
   "source": [
    "# Download the data\n",
    "BTC = yf.download(\"BTC-USD\", start='2018-01-01', end='2024-01-01')['Adj Close']\n",
    "ETH = yf.download(\"ETH-USD\", start='2018-01-01', end='2024-01-01')['Adj Close']\n",
    "USDT = yf.download(\"USDT-USD\", start='2018-01-01', end='2024-01-01')['Adj Close']"
   ]
  },
  {
   "cell_type": "code",
   "execution_count": 3,
   "id": "1c8bbf1e-8173-47b4-b803-03a005ed49b9",
   "metadata": {},
   "outputs": [],
   "source": [
    "# Obtain Log Returns\n",
    "rBTC=(np.log(BTC).diff().dropna())*100\n",
    "rETH=(np.log(ETH).diff().dropna())*100\n",
    "rUSDT=(np.log(USDT).diff().dropna())*100"
   ]
  },
  {
   "cell_type": "markdown",
   "id": "cef6c454-d577-4d6c-944d-45aa536c2125",
   "metadata": {},
   "source": [
    "#### Apply t-test for mean of both log returns"
   ]
  },
  {
   "cell_type": "code",
   "execution_count": 4,
   "id": "85300f0b-b78c-43dc-b4f7-923d7737e739",
   "metadata": {},
   "outputs": [
    {
     "name": "stdout",
     "output_type": "stream",
     "text": [
      "0.655690356057455 0.5120922807020449\n",
      "0.4872630676759868 0.6261207066170682\n",
      "-0.04475645304245292 0.9643055179695463\n"
     ]
    }
   ],
   "source": [
    "# t-test for the mean. test value=0\n",
    "t_rBTC, p_rBTC = stats.ttest_1samp(rBTC, 0)\n",
    "print(t_rBTC , p_rBTC)\n",
    "\n",
    "t_rETH, p_rETH = stats.ttest_1samp(rETH, 0) \n",
    "print(t_rETH , p_rETH)\n",
    "\n",
    "t_rUSDT, p_rUSDT = stats.ttest_1samp(rUSDT, 0)  \n",
    "print(t_rUSDT , p_rUSDT)"
   ]
  },
  {
   "cell_type": "markdown",
   "id": "569f9f1c-be78-4a3e-a108-3156700eb952",
   "metadata": {},
   "source": [
    "#### T-statistics for both BTC and ETH is relatively low and p-values are significantly higher than 0.05 threshold, meaning that dataset is not statistically significantly different from 0, implying no strong evidence of growth or decline over these periods.\n",
    "\n",
    "#### However, USDT shows a negative t-statistic and a very high p-value. This result strongly indicates that the mean of the rUSDT dataset is not statistically different from 0. Since Tether (USDT) is a stablecoin, typically pegged to a currency like the USD, this result is expected and indicates that it's maintaining its value as designed."
   ]
  },
  {
   "cell_type": "code",
   "execution_count": 5,
   "id": "f806e00b-15db-40d9-98aa-4b72c67f8823",
   "metadata": {},
   "outputs": [
    {
     "data": {
      "text/html": [
       "<div>\n",
       "<style scoped>\n",
       "    .dataframe tbody tr th:only-of-type {\n",
       "        vertical-align: middle;\n",
       "    }\n",
       "\n",
       "    .dataframe tbody tr th {\n",
       "        vertical-align: top;\n",
       "    }\n",
       "\n",
       "    .dataframe thead th {\n",
       "        text-align: right;\n",
       "    }\n",
       "</style>\n",
       "<table border=\"1\" class=\"dataframe\">\n",
       "  <thead>\n",
       "    <tr style=\"text-align: right;\">\n",
       "      <th></th>\n",
       "      <th>lb_stat</th>\n",
       "      <th>lb_pvalue</th>\n",
       "    </tr>\n",
       "  </thead>\n",
       "  <tbody>\n",
       "    <tr>\n",
       "      <th>10</th>\n",
       "      <td>17.763719</td>\n",
       "      <td>0.059083</td>\n",
       "    </tr>\n",
       "  </tbody>\n",
       "</table>\n",
       "</div>"
      ],
      "text/plain": [
       "      lb_stat  lb_pvalue\n",
       "10  17.763719   0.059083"
      ]
     },
     "execution_count": 5,
     "metadata": {},
     "output_type": "execute_result"
    }
   ],
   "source": [
    "# Checked up to 10 lags\n",
    "acorr_ljungbox(rBTC, lags=[10])"
   ]
  },
  {
   "cell_type": "code",
   "execution_count": 6,
   "id": "92c74050-9820-4303-98a1-6f650dfca51e",
   "metadata": {},
   "outputs": [
    {
     "data": {
      "text/html": [
       "<div>\n",
       "<style scoped>\n",
       "    .dataframe tbody tr th:only-of-type {\n",
       "        vertical-align: middle;\n",
       "    }\n",
       "\n",
       "    .dataframe tbody tr th {\n",
       "        vertical-align: top;\n",
       "    }\n",
       "\n",
       "    .dataframe thead th {\n",
       "        text-align: right;\n",
       "    }\n",
       "</style>\n",
       "<table border=\"1\" class=\"dataframe\">\n",
       "  <thead>\n",
       "    <tr style=\"text-align: right;\">\n",
       "      <th></th>\n",
       "      <th>lb_stat</th>\n",
       "      <th>lb_pvalue</th>\n",
       "    </tr>\n",
       "  </thead>\n",
       "  <tbody>\n",
       "    <tr>\n",
       "      <th>10</th>\n",
       "      <td>34.070799</td>\n",
       "      <td>0.00018</td>\n",
       "    </tr>\n",
       "  </tbody>\n",
       "</table>\n",
       "</div>"
      ],
      "text/plain": [
       "      lb_stat  lb_pvalue\n",
       "10  34.070799    0.00018"
      ]
     },
     "execution_count": 6,
     "metadata": {},
     "output_type": "execute_result"
    }
   ],
   "source": [
    "acorr_ljungbox(rETH, lags=[10])"
   ]
  },
  {
   "cell_type": "code",
   "execution_count": 7,
   "id": "4fdd1004-4e9a-4ac9-85f9-380845ebcbb1",
   "metadata": {},
   "outputs": [
    {
     "data": {
      "text/html": [
       "<div>\n",
       "<style scoped>\n",
       "    .dataframe tbody tr th:only-of-type {\n",
       "        vertical-align: middle;\n",
       "    }\n",
       "\n",
       "    .dataframe tbody tr th {\n",
       "        vertical-align: top;\n",
       "    }\n",
       "\n",
       "    .dataframe thead th {\n",
       "        text-align: right;\n",
       "    }\n",
       "</style>\n",
       "<table border=\"1\" class=\"dataframe\">\n",
       "  <thead>\n",
       "    <tr style=\"text-align: right;\">\n",
       "      <th></th>\n",
       "      <th>lb_stat</th>\n",
       "      <th>lb_pvalue</th>\n",
       "    </tr>\n",
       "  </thead>\n",
       "  <tbody>\n",
       "    <tr>\n",
       "      <th>10</th>\n",
       "      <td>435.225265</td>\n",
       "      <td>2.955147e-87</td>\n",
       "    </tr>\n",
       "  </tbody>\n",
       "</table>\n",
       "</div>"
      ],
      "text/plain": [
       "       lb_stat     lb_pvalue\n",
       "10  435.225265  2.955147e-87"
      ]
     },
     "execution_count": 7,
     "metadata": {},
     "output_type": "execute_result"
    }
   ],
   "source": [
    "acorr_ljungbox(rUSDT, lags=[10])"
   ]
  },
  {
   "cell_type": "markdown",
   "id": "dc3067c6-0a6f-4366-8dbc-f7f7be613dd9",
   "metadata": {},
   "source": [
    "#### Performing Ljung-Box test up to 10 lags to understand if there's any autocorrelation;\n",
    "#### The Bitcoin time series shows borderline evidence of autocorrelation, suggesting a need for further analysis.\n",
    "#### The Ethereum time series demonstrates strong evidence of autocorrelation.\n",
    "#### The Tether time series shows extremely strong evidence of autocorrelation, possibly due to its nature as a stablecoin."
   ]
  },
  {
   "cell_type": "code",
   "execution_count": 8,
   "id": "0637091b-6e65-4205-ae69-f090c490dc3a",
   "metadata": {},
   "outputs": [],
   "source": [
    "# Demeaned Returns\n",
    "rD_BTC = rBTC - np.mean(rBTC)\n",
    "rD_ETH = rETH - np.mean(rETH)\n",
    "rD_USDT = rUSDT - np.mean(rUSDT)"
   ]
  },
  {
   "cell_type": "code",
   "execution_count": 9,
   "id": "ea87a297-cc4b-4cb1-b35e-8a5a309ea760",
   "metadata": {},
   "outputs": [
    {
     "data": {
      "text/html": [
       "<div>\n",
       "<style scoped>\n",
       "    .dataframe tbody tr th:only-of-type {\n",
       "        vertical-align: middle;\n",
       "    }\n",
       "\n",
       "    .dataframe tbody tr th {\n",
       "        vertical-align: top;\n",
       "    }\n",
       "\n",
       "    .dataframe thead th {\n",
       "        text-align: right;\n",
       "    }\n",
       "</style>\n",
       "<table border=\"1\" class=\"dataframe\">\n",
       "  <thead>\n",
       "    <tr style=\"text-align: right;\">\n",
       "      <th></th>\n",
       "      <th>lb_stat</th>\n",
       "      <th>lb_pvalue</th>\n",
       "    </tr>\n",
       "  </thead>\n",
       "  <tbody>\n",
       "    <tr>\n",
       "      <th>10</th>\n",
       "      <td>56.231009</td>\n",
       "      <td>1.858172e-08</td>\n",
       "    </tr>\n",
       "  </tbody>\n",
       "</table>\n",
       "</div>"
      ],
      "text/plain": [
       "      lb_stat     lb_pvalue\n",
       "10  56.231009  1.858172e-08"
      ]
     },
     "execution_count": 9,
     "metadata": {},
     "output_type": "execute_result"
    }
   ],
   "source": [
    "acorr_ljungbox(rD_BTC**2, lags=[10])"
   ]
  },
  {
   "cell_type": "code",
   "execution_count": 10,
   "id": "07cb6464-9259-468a-8af1-11aead2601bf",
   "metadata": {},
   "outputs": [
    {
     "data": {
      "text/html": [
       "<div>\n",
       "<style scoped>\n",
       "    .dataframe tbody tr th:only-of-type {\n",
       "        vertical-align: middle;\n",
       "    }\n",
       "\n",
       "    .dataframe tbody tr th {\n",
       "        vertical-align: top;\n",
       "    }\n",
       "\n",
       "    .dataframe thead th {\n",
       "        text-align: right;\n",
       "    }\n",
       "</style>\n",
       "<table border=\"1\" class=\"dataframe\">\n",
       "  <thead>\n",
       "    <tr style=\"text-align: right;\">\n",
       "      <th></th>\n",
       "      <th>lb_stat</th>\n",
       "      <th>lb_pvalue</th>\n",
       "    </tr>\n",
       "  </thead>\n",
       "  <tbody>\n",
       "    <tr>\n",
       "      <th>10</th>\n",
       "      <td>85.761239</td>\n",
       "      <td>3.693657e-14</td>\n",
       "    </tr>\n",
       "  </tbody>\n",
       "</table>\n",
       "</div>"
      ],
      "text/plain": [
       "      lb_stat     lb_pvalue\n",
       "10  85.761239  3.693657e-14"
      ]
     },
     "execution_count": 10,
     "metadata": {},
     "output_type": "execute_result"
    }
   ],
   "source": [
    "acorr_ljungbox(rD_ETH**2, lags=[10])"
   ]
  },
  {
   "cell_type": "code",
   "execution_count": 11,
   "id": "681ecdbd-372c-4e04-8d49-71ea19533362",
   "metadata": {},
   "outputs": [
    {
     "data": {
      "text/html": [
       "<div>\n",
       "<style scoped>\n",
       "    .dataframe tbody tr th:only-of-type {\n",
       "        vertical-align: middle;\n",
       "    }\n",
       "\n",
       "    .dataframe tbody tr th {\n",
       "        vertical-align: top;\n",
       "    }\n",
       "\n",
       "    .dataframe thead th {\n",
       "        text-align: right;\n",
       "    }\n",
       "</style>\n",
       "<table border=\"1\" class=\"dataframe\">\n",
       "  <thead>\n",
       "    <tr style=\"text-align: right;\">\n",
       "      <th></th>\n",
       "      <th>lb_stat</th>\n",
       "      <th>lb_pvalue</th>\n",
       "    </tr>\n",
       "  </thead>\n",
       "  <tbody>\n",
       "    <tr>\n",
       "      <th>10</th>\n",
       "      <td>631.84432</td>\n",
       "      <td>2.632537e-129</td>\n",
       "    </tr>\n",
       "  </tbody>\n",
       "</table>\n",
       "</div>"
      ],
      "text/plain": [
       "      lb_stat      lb_pvalue\n",
       "10  631.84432  2.632537e-129"
      ]
     },
     "execution_count": 11,
     "metadata": {},
     "output_type": "execute_result"
    }
   ],
   "source": [
    "acorr_ljungbox(rD_USDT**2, lags=[10])"
   ]
  },
  {
   "cell_type": "markdown",
   "id": "cc8f26d2-80cb-4681-bdd1-0a81ff8b996b",
   "metadata": {},
   "source": [
    "#### The squared demeaned returns have a very low p-value, indicating strong autocorrelation in volatility. This supports using a GARCH model to capture the volatility clustering evident in both cryptocurrencies' returns."
   ]
  },
  {
   "cell_type": "code",
   "execution_count": 12,
   "id": "dc2daaa6-e588-440e-af8e-59fbc443e4ba",
   "metadata": {},
   "outputs": [
    {
     "data": {
      "image/png": "[encoded data removed]",
      "text/plain": [
       "<Figure size 1500x500 with 3 Axes>"
      ]
     },
     "metadata": {},
     "output_type": "display_data"
    }
   ],
   "source": [
    "# Create subplots\n",
    "fig, axs = plt.subplots(1, 3, figsize=(15, 5))\n",
    "\n",
    "# Plot PACF for each dataset\n",
    "plot_pacf(rD_BTC**2, ax=axs[0], title='PACF for Demeaned Squared Returns: BTC')\n",
    "plot_pacf(rD_ETH**2, ax=axs[1], title='PACF for Demeaned Squared Returns: ETH ')\n",
    "plot_pacf(rD_USDT**2, ax=axs[2], title='PACF for Demeaned Squared Returns: USDT')\n",
    "\n",
    "# Adjust layout and display the plots\n",
    "plt.tight_layout()\n",
    "plt.show()"
   ]
  },
  {
   "cell_type": "markdown",
   "id": "689c7411-f50b-4b63-bb62-9530e0afeb4c",
   "metadata": {},
   "source": [
    "#### Significant cut-offs for BTC and ETH seem to happen in first lag, signifying that we should check an ARCH(1) model.\n",
    "#### There are multiple seemingly significant lags beyond the first, but it's not clear without the confidence intervals. We will test ARCH(2) and ARCH(6) as well."
   ]
  },
  {
   "cell_type": "code",
   "execution_count": 25,
   "id": "3c01aa59-51a3-42a7-97d6-a87fd6536c85",
   "metadata": {},
   "outputs": [
    {
     "name": "stdout",
     "output_type": "stream",
     "text": [
      "                      Constant Mean - ARCH Model Results                      \n",
      "==============================================================================\n",
      "Dep. Variable:              Adj Close   R-squared:                       0.000\n",
      "Mean Model:             Constant Mean   Adj. R-squared:                  0.000\n",
      "Vol Model:                       ARCH   Log-Likelihood:               -5939.34\n",
      "Distribution:                  Normal   AIC:                           11884.7\n",
      "Method:            Maximum Likelihood   BIC:                           11901.7\n",
      "                                        No. Observations:                 2190\n",
      "Date:                Mon, Jan 29 2024   Df Residuals:                     2189\n",
      "Time:                        10:20:01   Df Model:                            1\n",
      "                                 Mean Model                                \n",
      "===========================================================================\n",
      "                 coef    std err          t      P>|t|     95.0% Conf. Int.\n",
      "---------------------------------------------------------------------------\n",
      "mu             0.0628  7.687e-02      0.817      0.414 [-8.788e-02,  0.213]\n",
      "                             Volatility Model                             \n",
      "==========================================================================\n",
      "                 coef    std err          t      P>|t|    95.0% Conf. Int.\n",
      "--------------------------------------------------------------------------\n",
      "omega         12.1047      1.534      7.890  3.014e-15   [  9.098, 15.112]\n",
      "alpha[1]       0.1115  5.131e-02      2.173  2.975e-02 [1.095e-02,  0.212]\n",
      "==========================================================================\n",
      "\n",
      "Covariance estimator: robust\n"
     ]
    }
   ],
   "source": [
    "# ARCH(1) model estimation\n",
    "BTC_AM1 = arch_model(rBTC, p=1, q=0, rescale=False)\n",
    "BTC_res1 = BTC_AM1.fit(update_freq=0, disp='off')\n",
    "print(BTC_res1.summary())"
   ]
  },
  {
   "cell_type": "markdown",
   "id": "6168acce-397b-41c4-8e6a-ea67011bc7ff",
   "metadata": {},
   "source": [
    "#### Error terms for BTC looks significant. Yet the p-value for mu suggests that the mean return is not significantly different from zero. Alpha[1] is greater than zero and shows statistical significance. Yet the high Akaine and Bayesian Information Criterion values suggest that ARCH(1) model may not be the best represantative of volatility in BTC returns. We might need to look for a GARCH model.\n",
    "#### Also considering that BTC market is known for its high volatility and potentially non-normal distribution of returns, a model that assumes a normal distribution might not be the most appropriate for BTC. We should explore other distributions like Student's t or GED within the ARCH/GARCH framework."
   ]
  },
  {
   "cell_type": "code",
   "execution_count": 24,
   "id": "32a40cac-76f8-4b35-b47f-aea605d184ac",
   "metadata": {},
   "outputs": [
    {
     "name": "stdout",
     "output_type": "stream",
     "text": [
      "                      Constant Mean - ARCH Model Results                      \n",
      "==============================================================================\n",
      "Dep. Variable:              Adj Close   R-squared:                       0.000\n",
      "Mean Model:             Constant Mean   Adj. R-squared:                  0.000\n",
      "Vol Model:                       ARCH   Log-Likelihood:               -6493.90\n",
      "Distribution:                  Normal   AIC:                           12993.8\n",
      "Method:            Maximum Likelihood   BIC:                           13010.9\n",
      "                                        No. Observations:                 2190\n",
      "Date:                Mon, Jan 29 2024   Df Residuals:                     2189\n",
      "Time:                        10:19:57   Df Model:                            1\n",
      "                               Mean Model                               \n",
      "========================================================================\n",
      "                 coef    std err          t      P>|t|  95.0% Conf. Int.\n",
      "------------------------------------------------------------------------\n",
      "mu             0.0766  9.691e-02      0.791      0.429 [ -0.113,  0.267]\n",
      "                             Volatility Model                             \n",
      "==========================================================================\n",
      "                 coef    std err          t      P>|t|    95.0% Conf. Int.\n",
      "--------------------------------------------------------------------------\n",
      "omega         19.7625      1.996      9.902  4.079e-23   [ 15.851, 23.674]\n",
      "alpha[1]       0.1311  4.660e-02      2.813  4.905e-03 [3.976e-02,  0.222]\n",
      "==========================================================================\n",
      "\n",
      "Covariance estimator: robust\n"
     ]
    }
   ],
   "source": [
    "ETH_AM1 = arch_model(rETH, p=1, q=0, rescale=False)\n",
    "ETH_res1 = ETH_AM1.fit(update_freq=0, disp='off')\n",
    "print(ETH_res1.summary())"
   ]
  },
  {
   "cell_type": "markdown",
   "id": "8b1b645a-d520-4bb4-8608-524605f0e961",
   "metadata": {},
   "source": [
    "#### Once again we cannot reject the null hypothesis on mu with high p-value. High AIC and BAC values also signal a room for improvement, by using higher lags or a GARCH model. "
   ]
  },
  {
   "cell_type": "code",
   "execution_count": 15,
   "id": "62456072-5931-45ff-83e3-47f10c37e933",
   "metadata": {},
   "outputs": [
    {
     "name": "stdout",
     "output_type": "stream",
     "text": [
      "                      Constant Mean - ARCH Model Results                      \n",
      "==============================================================================\n",
      "Dep. Variable:              Adj Close   R-squared:                       0.000\n",
      "Mean Model:             Constant Mean   Adj. R-squared:                  0.000\n",
      "Vol Model:                       ARCH   Log-Likelihood:                74.0435\n",
      "Distribution:                  Normal   AIC:                          -142.087\n",
      "Method:            Maximum Likelihood   BIC:                          -125.012\n",
      "                                        No. Observations:                 2190\n",
      "Date:                Mon, Jan 29 2024   Df Residuals:                     2189\n",
      "Time:                        09:41:15   Df Model:                            1\n",
      "                                  Mean Model                                 \n",
      "=============================================================================\n",
      "                 coef    std err          t      P>|t|       95.0% Conf. Int.\n",
      "-----------------------------------------------------------------------------\n",
      "mu         8.0437e-03  6.516e-03      1.234      0.217 [-4.728e-03,2.082e-02]\n",
      "                              Volatility Model                              \n",
      "============================================================================\n",
      "                 coef    std err          t      P>|t|      95.0% Conf. Int.\n",
      "----------------------------------------------------------------------------\n",
      "omega          0.0200  5.885e-03      3.402  6.693e-04 [8.486e-03,3.156e-02]\n",
      "alpha[1]       1.0000      0.250      4.004  6.222e-05     [  0.511,  1.489]\n",
      "============================================================================\n",
      "\n",
      "Covariance estimator: robust\n"
     ]
    }
   ],
   "source": [
    "rUSDT_AM1 = arch_model(rUSDT, p=1, q=0, rescale=False)\n",
    "rUSDT_res1 = rUSDT_AM1.fit(update_freq=0, disp='off')\n",
    "print(rUSDT_res1.summary())"
   ]
  },
  {
   "cell_type": "code",
   "execution_count": 20,
   "id": "ec3fc581-97b1-4119-bb10-808446391ed3",
   "metadata": {},
   "outputs": [
    {
     "name": "stdout",
     "output_type": "stream",
     "text": [
      "                      Constant Mean - ARCH Model Results                      \n",
      "==============================================================================\n",
      "Dep. Variable:              Adj Close   R-squared:                       0.000\n",
      "Mean Model:             Constant Mean   Adj. R-squared:                  0.000\n",
      "Vol Model:                       ARCH   Log-Likelihood:                392.208\n",
      "Distribution:                  Normal   AIC:                          -776.415\n",
      "Method:            Maximum Likelihood   BIC:                          -753.649\n",
      "                                        No. Observations:                 2190\n",
      "Date:                Mon, Jan 29 2024   Df Residuals:                     2189\n",
      "Time:                        10:10:44   Df Model:                            1\n",
      "                                  Mean Model                                  \n",
      "==============================================================================\n",
      "                  coef    std err          t      P>|t|       95.0% Conf. Int.\n",
      "------------------------------------------------------------------------------\n",
      "mu         -6.3962e-04  2.890e-03     -0.221      0.825 [-6.303e-03,5.024e-03]\n",
      "                              Volatility Model                              \n",
      "============================================================================\n",
      "                 coef    std err          t      P>|t|      95.0% Conf. Int.\n",
      "----------------------------------------------------------------------------\n",
      "omega      9.4483e-03  3.493e-03      2.705  6.836e-03 [2.602e-03,1.629e-02]\n",
      "alpha[1]       0.4603  6.447e-02      7.140  9.320e-13     [  0.334,  0.587]\n",
      "alpha[2]       0.4257  8.935e-02      4.764  1.898e-06     [  0.251,  0.601]\n",
      "============================================================================\n",
      "\n",
      "Covariance estimator: robust\n"
     ]
    }
   ],
   "source": [
    "rUSDT_AM2 = arch_model(rUSDT, p=2, q=0, rescale=False)\n",
    "rUSDT_res2 = rUSDT_AM2.fit(update_freq=0, disp='off')\n",
    "print(rUSDT_res2.summary())"
   ]
  },
  {
   "cell_type": "code",
   "execution_count": 23,
   "id": "a34063a4-4149-4ba8-9530-79b7c8e62675",
   "metadata": {},
   "outputs": [
    {
     "name": "stdout",
     "output_type": "stream",
     "text": [
      "                      Constant Mean - ARCH Model Results                      \n",
      "==============================================================================\n",
      "Dep. Variable:              Adj Close   R-squared:                       0.000\n",
      "Mean Model:             Constant Mean   Adj. R-squared:                  0.000\n",
      "Vol Model:                       ARCH   Log-Likelihood:                929.512\n",
      "Distribution:                  Normal   AIC:                          -1843.02\n",
      "Method:            Maximum Likelihood   BIC:                          -1797.49\n",
      "                                        No. Observations:                 2190\n",
      "Date:                Mon, Jan 29 2024   Df Residuals:                     2189\n",
      "Time:                        10:11:38   Df Model:                            1\n",
      "                                  Mean Model                                 \n",
      "=============================================================================\n",
      "                 coef    std err          t      P>|t|       95.0% Conf. Int.\n",
      "-----------------------------------------------------------------------------\n",
      "mu         3.5046e-05  9.476e-04  3.699e-02      0.970 [-1.822e-03,1.892e-03]\n",
      "                              Volatility Model                              \n",
      "============================================================================\n",
      "                 coef    std err          t      P>|t|      95.0% Conf. Int.\n",
      "----------------------------------------------------------------------------\n",
      "omega      7.1696e-03  4.496e-04     15.946  3.023e-57 [6.288e-03,8.051e-03]\n",
      "alpha[1]       0.3347  4.835e-02      6.922  4.455e-12     [  0.240,  0.429]\n",
      "alpha[2]       0.2147  6.397e-02      3.356  7.911e-04   [8.930e-02,  0.340]\n",
      "alpha[3]       0.3034      0.101      3.002  2.683e-03     [  0.105,  0.501]\n",
      "alpha[4]       0.1388  4.508e-02      3.078  2.083e-03   [5.041e-02,  0.227]\n",
      "alpha[5]       0.0663  4.620e-02      1.435      0.151  [-2.427e-02,  0.157]\n",
      "alpha[6]       0.0577  3.380e-02      1.707  8.776e-02  [-8.539e-03,  0.124]\n",
      "============================================================================\n",
      "\n",
      "Covariance estimator: robust\n",
      "WARNING: The optimizer did not indicate successful convergence. The message was Positive directional derivative for linesearch.\n",
      "See convergence_flag.\n",
      "\n"
     ]
    },
    {
     "name": "stderr",
     "output_type": "stream",
     "text": [
      "C:\\Users\\emir.e\\Anaconda3\\lib\\site-packages\\arch\\univariate\\base.py:766: ConvergenceWarning: The optimizer returned code 8. The message is:\n",
      "Positive directional derivative for linesearch\n",
      "See scipy.optimize.fmin_slsqp for code meaning.\n",
      "\n",
      "  warnings.warn(\n"
     ]
    }
   ],
   "source": [
    "rUSDT_AM6 = arch_model(rUSDT, p=6, q=0, rescale=False)\n",
    "rUSDT_res6 = rUSDT_AM6.fit(update_freq=0, disp='off')\n",
    "print(rUSDT_res6.summary())"
   ]
  },
  {
   "cell_type": "code",
   "execution_count": 22,
   "id": "58ffed28-2d81-4454-82b1-1903f1cbb370",
   "metadata": {},
   "outputs": [
    {
     "name": "stdout",
     "output_type": "stream",
     "text": [
      "-142.08691472035866 -125.01194425192702\n",
      "-776.4152771010604 -753.6486498098182\n",
      "-1843.0240943304243 -1797.4908397479398\n"
     ]
    }
   ],
   "source": [
    "print(rUSDT_res1.aic, rUSDT_res1.bic)\n",
    "print(rUSDT_res2.aic, rUSDT_res2.bic)\n",
    "print(rUSDT_res6.aic, rUSDT_res6.bic)"
   ]
  },
  {
   "cell_type": "markdown",
   "id": "a6f0ae2a-7429-496c-9d16-f580dff6b316",
   "metadata": {},
   "source": [
    "#### Akaine and Bayesian Information Criteria (AIC and BAC) shows the measures with lowest values for ARCH(6) in USDT, but it shows high p-value in mu and higher lags show lesser significance. \n",
    "#### ARCH(2) model seems to be a good balance between model complexity and fit. It has significant coefficients for both lags, and although its log-likelihood is not as high as the ARCH(6) model, it is still significantly better than the ARCH(1) model. \n",
    "#### Yet we still have the issue with high p-value on mu for ARCH(2), yet another confirmation that we should look for GARCH models.\n",
    "####  It is also worth noting that, for stablecoins, the absolute level of volatility may be less of a concern than for other cryptocurrencies, so the ARCH/GARCH modeling might be of more theoretical than practical interest."
   ]
  },
  {
   "cell_type": "code",
   "execution_count": null,
   "id": "a5b362b0-c4ce-41ff-aca7-993b262f99ad",
   "metadata": {},
   "outputs": [],
   "source": []
  }
 ],
 "metadata": {
  "kernelspec": {
   "display_name": "Python 3 (ipykernel)",
   "language": "python",
   "name": "python3"
  },
  "language_info": {
   "codemirror_mode": {
    "name": "ipython",
    "version": 3
   },
   "file_extension": ".py",
   "mimetype": "text/x-python",
   "name": "python",
   "nbconvert_exporter": "python",
   "pygments_lexer": "ipython3",
   "version": "3.9.12"
  }
 },
 "nbformat": 4,
 "nbformat_minor": 5
}
